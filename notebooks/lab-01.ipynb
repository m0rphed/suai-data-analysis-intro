{
  "cells": [
    {
      "cell_type": "markdown",
      "metadata": {},
      "source": [
        "# ЛР 1. Предварительный анализ данных\n",
        "\n",
        "Цель: осуществить предварительную обработку данных csv-файла,\n",
        "выявить и устранить проблемы в этих данных.\n",
        "\n",
        "> Индивидуальный вариант: N13"
      ]
    },
    {
      "cell_type": "code",
      "execution_count": 1,
      "metadata": {},
      "outputs": [],
      "source": [
        "# импортируем библиотеку pandas для работы с данными\n",
        "import pandas as pd"
      ]
    },
    {
      "cell_type": "markdown",
      "metadata": {},
      "source": [
        "Загрузка данных по ссылке на github файл (где был выложен CSV-файл с данными)"
      ]
    },
    {
      "cell_type": "code",
      "execution_count": 2,
      "metadata": {},
      "outputs": [],
      "source": [
        "DATASET_URI: str = \"https://raw.githubusercontent.com/m0rphed/suai-data-analysis-intro/refs/heads/lab01/data/01_datasets/clients.csv\"\n",
        "df = pd.read_csv(DATASET_URI, sep = \";\")"
      ]
    },
    {
      "cell_type": "markdown",
      "metadata": {},
      "source": [
        "- Проверяем что данные загружены - смотрим первые 15 строк"
      ]
    },
    {
      "cell_type": "code",
      "execution_count": 3,
      "metadata": {},
      "outputs": [
        {
          "data": {
            "text/html": [
              "<div>\n",
              "<style scoped>\n",
              "    .dataframe tbody tr th:only-of-type {\n",
              "        vertical-align: middle;\n",
              "    }\n",
              "\n",
              "    .dataframe tbody tr th {\n",
              "        vertical-align: top;\n",
              "    }\n",
              "\n",
              "    .dataframe thead th {\n",
              "        text-align: right;\n",
              "    }\n",
              "</style>\n",
              "<table border=\"1\" class=\"dataframe\">\n",
              "  <thead>\n",
              "    <tr style=\"text-align: right;\">\n",
              "      <th></th>\n",
              "      <th>ID</th>\n",
              "      <th>Year_Birth</th>\n",
              "      <th>Education</th>\n",
              "      <th>Marital_Status</th>\n",
              "      <th>Income</th>\n",
              "      <th>Kidhome</th>\n",
              "      <th>Dt_Customer</th>\n",
              "      <th>NumDealsPurchases</th>\n",
              "    </tr>\n",
              "  </thead>\n",
              "  <tbody>\n",
              "    <tr>\n",
              "      <th>0</th>\n",
              "      <td>5524</td>\n",
              "      <td>1957</td>\n",
              "      <td>Graduation</td>\n",
              "      <td>Single</td>\n",
              "      <td>58138.0</td>\n",
              "      <td>0.0</td>\n",
              "      <td>04.09.2012</td>\n",
              "      <td>3.0</td>\n",
              "    </tr>\n",
              "    <tr>\n",
              "      <th>1</th>\n",
              "      <td>2174</td>\n",
              "      <td>1954</td>\n",
              "      <td>Graduation</td>\n",
              "      <td>Single</td>\n",
              "      <td>46344.0</td>\n",
              "      <td>1.0</td>\n",
              "      <td>08.03.2014</td>\n",
              "      <td>2.0</td>\n",
              "    </tr>\n",
              "    <tr>\n",
              "      <th>2</th>\n",
              "      <td>4141</td>\n",
              "      <td>1965</td>\n",
              "      <td>Graduation</td>\n",
              "      <td>Together</td>\n",
              "      <td>71613.0</td>\n",
              "      <td>0.0</td>\n",
              "      <td>21.08.2013</td>\n",
              "      <td>1.0</td>\n",
              "    </tr>\n",
              "    <tr>\n",
              "      <th>3</th>\n",
              "      <td>6182</td>\n",
              "      <td>1984</td>\n",
              "      <td>Graduation</td>\n",
              "      <td>Together</td>\n",
              "      <td>26646.0</td>\n",
              "      <td>1.0</td>\n",
              "      <td>10.02.2014</td>\n",
              "      <td>2.0</td>\n",
              "    </tr>\n",
              "    <tr>\n",
              "      <th>4</th>\n",
              "      <td>5324</td>\n",
              "      <td>1981</td>\n",
              "      <td>PhD</td>\n",
              "      <td>Married</td>\n",
              "      <td>58293.0</td>\n",
              "      <td>1.0</td>\n",
              "      <td>19.01.2014</td>\n",
              "      <td>5.0</td>\n",
              "    </tr>\n",
              "    <tr>\n",
              "      <th>5</th>\n",
              "      <td>7446</td>\n",
              "      <td>1967</td>\n",
              "      <td>Master</td>\n",
              "      <td>Together</td>\n",
              "      <td>62513.0</td>\n",
              "      <td>0.0</td>\n",
              "      <td>09.09.2013</td>\n",
              "      <td>2.0</td>\n",
              "    </tr>\n",
              "    <tr>\n",
              "      <th>6</th>\n",
              "      <td>965</td>\n",
              "      <td>1971</td>\n",
              "      <td>Graduation</td>\n",
              "      <td>Divorced</td>\n",
              "      <td>55635.0</td>\n",
              "      <td>0.0</td>\n",
              "      <td>13.11.2012</td>\n",
              "      <td>4.0</td>\n",
              "    </tr>\n",
              "    <tr>\n",
              "      <th>7</th>\n",
              "      <td>6177</td>\n",
              "      <td>1985</td>\n",
              "      <td>PhD</td>\n",
              "      <td>Married</td>\n",
              "      <td>33454.0</td>\n",
              "      <td>1.0</td>\n",
              "      <td>08.05.2013</td>\n",
              "      <td>2.0</td>\n",
              "    </tr>\n",
              "    <tr>\n",
              "      <th>8</th>\n",
              "      <td>4855</td>\n",
              "      <td>1974</td>\n",
              "      <td>PhD</td>\n",
              "      <td>Together</td>\n",
              "      <td>30351.0</td>\n",
              "      <td>1.0</td>\n",
              "      <td>06.06.2013</td>\n",
              "      <td>1.0</td>\n",
              "    </tr>\n",
              "    <tr>\n",
              "      <th>9</th>\n",
              "      <td>5899</td>\n",
              "      <td>1950</td>\n",
              "      <td>PhD</td>\n",
              "      <td>Together</td>\n",
              "      <td>5648.0</td>\n",
              "      <td>1.0</td>\n",
              "      <td>13.03.2014</td>\n",
              "      <td>1.0</td>\n",
              "    </tr>\n",
              "    <tr>\n",
              "      <th>10</th>\n",
              "      <td>1994</td>\n",
              "      <td>1983</td>\n",
              "      <td>Graduation</td>\n",
              "      <td>MARRIED</td>\n",
              "      <td>NaN</td>\n",
              "      <td>NaN</td>\n",
              "      <td>NaN</td>\n",
              "      <td>NaN</td>\n",
              "    </tr>\n",
              "    <tr>\n",
              "      <th>11</th>\n",
              "      <td>387</td>\n",
              "      <td>1976</td>\n",
              "      <td>Basic</td>\n",
              "      <td>Married</td>\n",
              "      <td>7500.0</td>\n",
              "      <td>0.0</td>\n",
              "      <td>13.11.2012</td>\n",
              "      <td>1.0</td>\n",
              "    </tr>\n",
              "    <tr>\n",
              "      <th>12</th>\n",
              "      <td>2125</td>\n",
              "      <td>1959</td>\n",
              "      <td>Graduation</td>\n",
              "      <td>Divorced</td>\n",
              "      <td>63033.0</td>\n",
              "      <td>0.0</td>\n",
              "      <td>15.11.2013</td>\n",
              "      <td>1.0</td>\n",
              "    </tr>\n",
              "    <tr>\n",
              "      <th>13</th>\n",
              "      <td>8180</td>\n",
              "      <td>1952</td>\n",
              "      <td>Master</td>\n",
              "      <td>Divorced</td>\n",
              "      <td>59354.0</td>\n",
              "      <td>1.0</td>\n",
              "      <td>15.11.2013</td>\n",
              "      <td>3.0</td>\n",
              "    </tr>\n",
              "    <tr>\n",
              "      <th>14</th>\n",
              "      <td>2569</td>\n",
              "      <td>1987</td>\n",
              "      <td>Graduation</td>\n",
              "      <td>Married</td>\n",
              "      <td>17323.0</td>\n",
              "      <td>0.0</td>\n",
              "      <td>10.10.2012</td>\n",
              "      <td>1.0</td>\n",
              "    </tr>\n",
              "  </tbody>\n",
              "</table>\n",
              "</div>"
            ],
            "text/plain": [
              "      ID  Year_Birth   Education Marital_Status   Income  Kidhome Dt_Customer  \\\n",
              "0   5524        1957  Graduation         Single  58138.0      0.0  04.09.2012   \n",
              "1   2174        1954  Graduation         Single  46344.0      1.0  08.03.2014   \n",
              "2   4141        1965  Graduation       Together  71613.0      0.0  21.08.2013   \n",
              "3   6182        1984  Graduation       Together  26646.0      1.0  10.02.2014   \n",
              "4   5324        1981         PhD        Married  58293.0      1.0  19.01.2014   \n",
              "5   7446        1967      Master       Together  62513.0      0.0  09.09.2013   \n",
              "6    965        1971  Graduation       Divorced  55635.0      0.0  13.11.2012   \n",
              "7   6177        1985         PhD        Married  33454.0      1.0  08.05.2013   \n",
              "8   4855        1974         PhD       Together  30351.0      1.0  06.06.2013   \n",
              "9   5899        1950         PhD       Together   5648.0      1.0  13.03.2014   \n",
              "10  1994        1983  Graduation        MARRIED      NaN      NaN         NaN   \n",
              "11   387        1976       Basic        Married   7500.0      0.0  13.11.2012   \n",
              "12  2125        1959  Graduation       Divorced  63033.0      0.0  15.11.2013   \n",
              "13  8180        1952      Master       Divorced  59354.0      1.0  15.11.2013   \n",
              "14  2569        1987  Graduation        Married  17323.0      0.0  10.10.2012   \n",
              "\n",
              "    NumDealsPurchases  \n",
              "0                 3.0  \n",
              "1                 2.0  \n",
              "2                 1.0  \n",
              "3                 2.0  \n",
              "4                 5.0  \n",
              "5                 2.0  \n",
              "6                 4.0  \n",
              "7                 2.0  \n",
              "8                 1.0  \n",
              "9                 1.0  \n",
              "10                NaN  \n",
              "11                1.0  \n",
              "12                1.0  \n",
              "13                3.0  \n",
              "14                1.0  "
            ]
          },
          "execution_count": 3,
          "metadata": {},
          "output_type": "execute_result"
        }
      ],
      "source": [
        "df.head(15)"
      ]
    },
    {
      "cell_type": "markdown",
      "metadata": {},
      "source": [
        "Данные из набора `clients.csv`\n",
        "\n",
        "| Название столбца  | Что в колонке                       |\n",
        "|-------------------|-------------------------------------|\n",
        "| ID                | уникальный идентификатор клиента    |\n",
        "| Year_Birth        | год рождения клиента                |\n",
        "| Education         | уровень образования клиента         |\n",
        "| Marital_Status    | семейное положение клиента          |\n",
        "| Income            | годовой доход семьи                 |\n",
        "| Kidhome           | количество детей                    |\n",
        "| Dt_Customer       | дата регистрации клиента в компании |\n",
        "| NumDealsPurchases | количество покупок                  |"
      ]
    },
    {
      "cell_type": "markdown",
      "metadata": {},
      "source": [
        "Получение краткой обобщённой информации о даннах с помощью вызова `df.info()`"
      ]
    },
    {
      "cell_type": "code",
      "execution_count": 4,
      "metadata": {},
      "outputs": [
        {
          "name": "stdout",
          "output_type": "stream",
          "text": [
            "<class 'pandas.core.frame.DataFrame'>\n",
            "RangeIndex: 796 entries, 0 to 795\n",
            "Data columns (total 8 columns):\n",
            " #   Column             Non-Null Count  Dtype  \n",
            "---  ------             --------------  -----  \n",
            " 0   ID                 796 non-null    int64  \n",
            " 1   Year_Birth         796 non-null    int64  \n",
            " 2   Education          796 non-null    object \n",
            " 3   Marital_Status     796 non-null    object \n",
            " 4   Income             784 non-null    float64\n",
            " 5   Kidhome            795 non-null    float64\n",
            " 6   Dt_Customer        795 non-null    object \n",
            " 7   NumDealsPurchases  795 non-null    float64\n",
            "dtypes: float64(3), int64(2), object(3)\n",
            "memory usage: 49.9+ KB\n"
          ]
        }
      ],
      "source": [
        "df.info()"
      ]
    },
    {
      "cell_type": "markdown",
      "metadata": {},
      "source": [
        "- Становится понятно, что в данных присутствуют пропуски, т.к. не везде количество Non-Null (полей имеющих значения) полей одинаковое:\n",
        "\n",
        "  - Максимальное кол-во *не-null* строк (= 796) в столбцах: `ID`, `Year_Birth`, `Education`, `Marital_Status` - в них нет пропусков  \n",
        "  - В столбцах: `Kidhome`, `Dt_Customer`, `NumDealsPurchases` - 795 *не-null* строк, т.е. есть 1 пропуск\n",
        "  - В столбце `Income` - 784 значений, т.е. 12 пропусков"
      ]
    },
    {
      "cell_type": "markdown",
      "metadata": {},
      "source": [
        "- С помощью вызова метода `describe` получим описательную статистику которая включает: минимальные и максимальные значения, процентили, медиану и стандартное отклонение набора данных, опуская пропуски в нём."
      ]
    },
    {
      "cell_type": "code",
      "execution_count": 5,
      "metadata": {},
      "outputs": [
        {
          "data": {
            "text/html": [
              "<div>\n",
              "<style scoped>\n",
              "    .dataframe tbody tr th:only-of-type {\n",
              "        vertical-align: middle;\n",
              "    }\n",
              "\n",
              "    .dataframe tbody tr th {\n",
              "        vertical-align: top;\n",
              "    }\n",
              "\n",
              "    .dataframe thead th {\n",
              "        text-align: right;\n",
              "    }\n",
              "</style>\n",
              "<table border=\"1\" class=\"dataframe\">\n",
              "  <thead>\n",
              "    <tr style=\"text-align: right;\">\n",
              "      <th></th>\n",
              "      <th>ID</th>\n",
              "      <th>Year_Birth</th>\n",
              "      <th>Income</th>\n",
              "      <th>Kidhome</th>\n",
              "      <th>NumDealsPurchases</th>\n",
              "    </tr>\n",
              "  </thead>\n",
              "  <tbody>\n",
              "    <tr>\n",
              "      <th>count</th>\n",
              "      <td>796.000000</td>\n",
              "      <td>796.000000</td>\n",
              "      <td>784.00000</td>\n",
              "      <td>795.000000</td>\n",
              "      <td>795.000000</td>\n",
              "    </tr>\n",
              "    <tr>\n",
              "      <th>mean</th>\n",
              "      <td>5630.133166</td>\n",
              "      <td>1968.356784</td>\n",
              "      <td>53130.07398</td>\n",
              "      <td>0.438994</td>\n",
              "      <td>2.314465</td>\n",
              "    </tr>\n",
              "    <tr>\n",
              "      <th>std</th>\n",
              "      <td>3273.039715</td>\n",
              "      <td>12.022132</td>\n",
              "      <td>21818.56876</td>\n",
              "      <td>0.547252</td>\n",
              "      <td>1.941650</td>\n",
              "    </tr>\n",
              "    <tr>\n",
              "      <th>min</th>\n",
              "      <td>0.000000</td>\n",
              "      <td>1899.000000</td>\n",
              "      <td>2447.00000</td>\n",
              "      <td>0.000000</td>\n",
              "      <td>0.000000</td>\n",
              "    </tr>\n",
              "    <tr>\n",
              "      <th>25%</th>\n",
              "      <td>2853.000000</td>\n",
              "      <td>1959.000000</td>\n",
              "      <td>36141.75000</td>\n",
              "      <td>0.000000</td>\n",
              "      <td>1.000000</td>\n",
              "    </tr>\n",
              "    <tr>\n",
              "      <th>50%</th>\n",
              "      <td>5563.000000</td>\n",
              "      <td>1969.500000</td>\n",
              "      <td>52372.50000</td>\n",
              "      <td>0.000000</td>\n",
              "      <td>2.000000</td>\n",
              "    </tr>\n",
              "    <tr>\n",
              "      <th>75%</th>\n",
              "      <td>8584.250000</td>\n",
              "      <td>1977.000000</td>\n",
              "      <td>69293.25000</td>\n",
              "      <td>1.000000</td>\n",
              "      <td>3.000000</td>\n",
              "    </tr>\n",
              "    <tr>\n",
              "      <th>max</th>\n",
              "      <td>11191.000000</td>\n",
              "      <td>1995.000000</td>\n",
              "      <td>162397.00000</td>\n",
              "      <td>2.000000</td>\n",
              "      <td>15.000000</td>\n",
              "    </tr>\n",
              "  </tbody>\n",
              "</table>\n",
              "</div>"
            ],
            "text/plain": [
              "                 ID   Year_Birth        Income     Kidhome  NumDealsPurchases\n",
              "count    796.000000   796.000000     784.00000  795.000000         795.000000\n",
              "mean    5630.133166  1968.356784   53130.07398    0.438994           2.314465\n",
              "std     3273.039715    12.022132   21818.56876    0.547252           1.941650\n",
              "min        0.000000  1899.000000    2447.00000    0.000000           0.000000\n",
              "25%     2853.000000  1959.000000   36141.75000    0.000000           1.000000\n",
              "50%     5563.000000  1969.500000   52372.50000    0.000000           2.000000\n",
              "75%     8584.250000  1977.000000   69293.25000    1.000000           3.000000\n",
              "max    11191.000000  1995.000000  162397.00000    2.000000          15.000000"
            ]
          },
          "execution_count": 5,
          "metadata": {},
          "output_type": "execute_result"
        }
      ],
      "source": [
        "df.describe()"
      ]
    },
    {
      "cell_type": "markdown",
      "metadata": {},
      "source": [
        "Рассмотрим на примере колонки с годом рождения что отражает эта статистика:\n",
        "\n",
        "- `count` Количество: 796 — всего данных о годах рождения среди всех данных.\n",
        "- `mean` Среднее значение: 1968.36 — средний год рождения в наборе данных.\n",
        "- `std` Стандартное отклонение: 12.02 — возраст людей варьируется с небольшим разбросом.\n",
        "- `min` Минимум: 1899 — покупатель, которому 125 лет.\n",
        "- `%25` 25-ый процентиль: 1959 — 25% людей родились до этого года.\n",
        "- `%50` Медиана (50%): 1969.5 — половина клиентов родилась до 1970 года.\n",
        "- `%75` 75-й процентиль: 1977 — 75% клиентов родилась позе этого года.\n",
        "- `max` Максимум: 1995 — самый поздний год рождения, т.е. самый молодой клиент."
      ]
    },
    {
      "cell_type": "markdown",
      "metadata": {},
      "source": [
        "\n",
        "На примере вывода `df.describe`, рассмотрев `Year_Birth` можно аналогично анализировать другие численные признаки.\n",
        "\n",
        "> Отметим, также, что среди клиентов есть необычно пожилой человек (125 лет), однако нельзя точно сказать является ли это ошибкой, или же необычным качеством одного из клиентов попавших в нашу изначальную выборку данных."
      ]
    },
    {
      "cell_type": "markdown",
      "metadata": {},
      "source": [
        "Рассмотрим числовой признак `ID` (целочисленные значения - `int64`)\n",
        "\n",
        "- Проверим являются ли значения поля `ID` уникальными"
      ]
    },
    {
      "cell_type": "code",
      "execution_count": 6,
      "metadata": {},
      "outputs": [
        {
          "data": {
            "text/plain": [
              "False"
            ]
          },
          "execution_count": 6,
          "metadata": {},
          "output_type": "execute_result"
        }
      ],
      "source": [
        "df[\"ID\"].is_unique"
      ]
    },
    {
      "cell_type": "markdown",
      "metadata": {},
      "source": [
        "- Мы выяснили что значения `ID` не являются уникальными - теперь требуется проверить есть ли среди них дубликаты:"
      ]
    },
    {
      "cell_type": "code",
      "execution_count": 7,
      "metadata": {},
      "outputs": [
        {
          "data": {
            "text/html": [
              "<div>\n",
              "<style scoped>\n",
              "    .dataframe tbody tr th:only-of-type {\n",
              "        vertical-align: middle;\n",
              "    }\n",
              "\n",
              "    .dataframe tbody tr th {\n",
              "        vertical-align: top;\n",
              "    }\n",
              "\n",
              "    .dataframe thead th {\n",
              "        text-align: right;\n",
              "    }\n",
              "</style>\n",
              "<table border=\"1\" class=\"dataframe\">\n",
              "  <thead>\n",
              "    <tr style=\"text-align: right;\">\n",
              "      <th></th>\n",
              "      <th>ID</th>\n",
              "      <th>Year_Birth</th>\n",
              "      <th>Education</th>\n",
              "      <th>Marital_Status</th>\n",
              "      <th>Income</th>\n",
              "      <th>Kidhome</th>\n",
              "      <th>Dt_Customer</th>\n",
              "      <th>NumDealsPurchases</th>\n",
              "    </tr>\n",
              "  </thead>\n",
              "  <tbody>\n",
              "    <tr>\n",
              "      <th>791</th>\n",
              "      <td>2853</td>\n",
              "      <td>1980</td>\n",
              "      <td>Graduation</td>\n",
              "      <td>Single</td>\n",
              "      <td>51766.0</td>\n",
              "      <td>1.0</td>\n",
              "      <td>11.03.2014</td>\n",
              "      <td>2.0</td>\n",
              "    </tr>\n",
              "    <tr>\n",
              "      <th>792</th>\n",
              "      <td>2853</td>\n",
              "      <td>1980</td>\n",
              "      <td>Graduation</td>\n",
              "      <td>Single</td>\n",
              "      <td>51766.0</td>\n",
              "      <td>1.0</td>\n",
              "      <td>11.03.2014</td>\n",
              "      <td>2.0</td>\n",
              "    </tr>\n",
              "    <tr>\n",
              "      <th>793</th>\n",
              "      <td>2853</td>\n",
              "      <td>1980</td>\n",
              "      <td>Graduation</td>\n",
              "      <td>Single</td>\n",
              "      <td>51766.0</td>\n",
              "      <td>1.0</td>\n",
              "      <td>11.03.2014</td>\n",
              "      <td>2.0</td>\n",
              "    </tr>\n",
              "    <tr>\n",
              "      <th>794</th>\n",
              "      <td>2853</td>\n",
              "      <td>1980</td>\n",
              "      <td>Graduation</td>\n",
              "      <td>Single</td>\n",
              "      <td>51766.0</td>\n",
              "      <td>1.0</td>\n",
              "      <td>11.03.2014</td>\n",
              "      <td>2.0</td>\n",
              "    </tr>\n",
              "    <tr>\n",
              "      <th>795</th>\n",
              "      <td>2853</td>\n",
              "      <td>1980</td>\n",
              "      <td>Graduation</td>\n",
              "      <td>Single</td>\n",
              "      <td>51766.0</td>\n",
              "      <td>1.0</td>\n",
              "      <td>11.03.2014</td>\n",
              "      <td>2.0</td>\n",
              "    </tr>\n",
              "  </tbody>\n",
              "</table>\n",
              "</div>"
            ],
            "text/plain": [
              "       ID  Year_Birth   Education Marital_Status   Income  Kidhome  \\\n",
              "791  2853        1980  Graduation         Single  51766.0      1.0   \n",
              "792  2853        1980  Graduation         Single  51766.0      1.0   \n",
              "793  2853        1980  Graduation         Single  51766.0      1.0   \n",
              "794  2853        1980  Graduation         Single  51766.0      1.0   \n",
              "795  2853        1980  Graduation         Single  51766.0      1.0   \n",
              "\n",
              "    Dt_Customer  NumDealsPurchases  \n",
              "791  11.03.2014                2.0  \n",
              "792  11.03.2014                2.0  \n",
              "793  11.03.2014                2.0  \n",
              "794  11.03.2014                2.0  \n",
              "795  11.03.2014                2.0  "
            ]
          },
          "execution_count": 7,
          "metadata": {},
          "output_type": "execute_result"
        }
      ],
      "source": [
        "duplicated_ids = df[df[\"ID\"].duplicated(keep=False)]\n",
        "duplicated_ids"
      ]
    },
    {
      "cell_type": "markdown",
      "metadata": {},
      "source": [
        "- дубликаты есть, от них нужно будет избавиться после того как мы переименуем столбцы."
      ]
    },
    {
      "cell_type": "markdown",
      "metadata": {
        "id": "ws2gD9uDsiSM"
      },
      "source": [
        "## Переименование столбцов"
      ]
    },
    {
      "cell_type": "markdown",
      "metadata": {
        "id": "PxiAk61sDIcA"
      },
      "source": [
        "Выведем на экран названия столбцов с помощью df.columns."
      ]
    },
    {
      "cell_type": "code",
      "execution_count": 8,
      "metadata": {
        "colab": {
          "base_uri": "https://localhost:8080/"
        },
        "id": "_pLZYUchDLFs",
        "outputId": "ff90a060-bd65-4eb8-d996-8ea843f4d1f3"
      },
      "outputs": [
        {
          "data": {
            "text/plain": [
              "Index(['ID', 'Year_Birth', 'Education', 'Marital_Status', 'Income', 'Kidhome',\n",
              "       'Dt_Customer', 'NumDealsPurchases'],\n",
              "      dtype='object')"
            ]
          },
          "execution_count": 8,
          "metadata": {},
          "output_type": "execute_result"
        }
      ],
      "source": [
        "df.columns"
      ]
    },
    {
      "cell_type": "markdown",
      "metadata": {
        "id": "KvANrb2UxoKA"
      },
      "source": [
        "Мы можем заметить проблемы с названиями столбцов.\n",
        "\n",
        "- `NumDealsPurchases` - не удовлетворяет Snake Case\n",
        "- `Dt_Customer` - интуитивно не понятное название колонки\n",
        "- все названия можно привести к нижнему регистру для красоты"
      ]
    },
    {
      "cell_type": "markdown",
      "metadata": {
        "id": "KUbtIU-Xx4fm"
      },
      "source": [
        "Исправим названия"
      ]
    },
    {
      "cell_type": "code",
      "execution_count": 9,
      "metadata": {
        "colab": {
          "base_uri": "https://localhost:8080/"
        },
        "id": "b059D5fqDoGQ",
        "outputId": "667aac1c-7800-467e-980e-3d81b10555ea"
      },
      "outputs": [
        {
          "data": {
            "text/plain": [
              "Index(['id', 'year_birth', 'education', 'marital_status', 'income', 'kidhome',\n",
              "       'register_date', 'num_purchases'],\n",
              "      dtype='object')"
            ]
          },
          "execution_count": 9,
          "metadata": {},
          "output_type": "execute_result"
        }
      ],
      "source": [
        "df = df.rename(\n",
        "    columns={\n",
        "        'NumDealsPurchases': 'Num_Purchases',\n",
        "        'Dt_Customer': 'Register_Date'\n",
        "    }\n",
        ")\n",
        "\n",
        "df.columns = df.columns.str.lower()\n",
        "df.columns"
      ]
    },
    {
      "cell_type": "markdown",
      "metadata": {
        "id": "NWySsZQUsmQ9"
      },
      "source": [
        "## Удаление пропусков"
      ]
    },
    {
      "cell_type": "markdown",
      "metadata": {
        "id": "vgmBgifvE560"
      },
      "source": [
        "Ранее мы уже встречали пропуски, посмотрим на них в более приятном виде"
      ]
    },
    {
      "cell_type": "code",
      "execution_count": 10,
      "metadata": {
        "colab": {
          "base_uri": "https://localhost:8080/"
        },
        "id": "8MlsOgU9E0oz",
        "outputId": "dd1d9960-9652-4492-f3d6-20908426e084"
      },
      "outputs": [
        {
          "name": "stdout",
          "output_type": "stream",
          "text": [
            "income: 12 пропусков из 796 записей\n",
            "kidhome: 1 пропусков из 796 записей\n",
            "register_date: 1 пропусков из 796 записей\n",
            "num_purchases: 1 пропусков из 796 записей\n"
          ]
        }
      ],
      "source": [
        "for column in df.columns:\n",
        "    missing_values = df[column].isnull().sum()\n",
        "    if missing_values == 0:\n",
        "        continue\n",
        "    print(f\"{column}: {missing_values} пропусков из {len(df)} записей\")"
      ]
    },
    {
      "cell_type": "markdown",
      "metadata": {
        "id": "15EL9Nq9F7zt"
      },
      "source": [
        "Всего 15 пропусков из 796. Это меньше 2%. Поэтому пропуски можно просто удалить.\n",
        "\n",
        "Однако, можно сохранить данные, которых и так не много"
      ]
    },
    {
      "cell_type": "markdown",
      "metadata": {
        "id": "-g70kQWWF69o"
      },
      "source": [
        "Заполнение пропусков:\n",
        "\n",
        "- `income`: Можно заполнить медианным значением, чтобы избежать влияния выбросов (их наличие можно заметить по describe выше) и сохранить имеющееся распределение.\n",
        "- `register_date`, `kidhome`, `num_purchases`: это категориальные значения, пропуски можно запонить модой - наиболее частым значением."
      ]
    },
    {
      "cell_type": "code",
      "execution_count": 11,
      "metadata": {
        "id": "9U0ZHSN1Ixol"
      },
      "outputs": [],
      "source": [
        "import warnings\n",
        "with warnings.catch_warnings():\n",
        "    warnings.simplefilter(action='ignore', category=FutureWarning)\n",
        "    \n",
        "    # тут мы отключаем предупреждения\n",
        "    # о будущих изменениях библиотеки pandas\n",
        "    # - это не ошибки, а ворнинги\n",
        "    df['income'].fillna(\n",
        "        df['income'].median(),\n",
        "        inplace=True\n",
        "    )\n",
        "\n",
        "    df['register_date'].fillna(\n",
        "        df['register_date'].mode()[0],\n",
        "        inplace=True\n",
        "    )\n",
        "\n",
        "    df['kidhome'].fillna(\n",
        "        df['kidhome'].mode()[0],\n",
        "        inplace=True\n",
        "    )\n",
        "\n",
        "    df['num_purchases'].fillna(\n",
        "        df['num_purchases'].mode()[0],\n",
        "        inplace=True\n",
        "    )"
      ]
    },
    {
      "cell_type": "markdown",
      "metadata": {
        "id": "lKPpWSvpyZYb"
      },
      "source": [
        "Проверим датасет на наличие пропусков снова"
      ]
    },
    {
      "cell_type": "code",
      "execution_count": 12,
      "metadata": {
        "id": "pb8GYqrTI3N5"
      },
      "outputs": [],
      "source": [
        "for column in df.columns:\n",
        "    missing_values = df[column].isnull().sum()\n",
        "    if missing_values == 0:\n",
        "        continue\n",
        "    print(f\"{column}: {missing_values} пропусков из {len(df)} записей\")\n",
        "# отсутствие сообщений - будет свидетельством того что пропуски были удалены"
      ]
    },
    {
      "cell_type": "markdown",
      "metadata": {
        "id": "qfV4NU0VI4bX"
      },
      "source": [
        "Мы избавились от пропусков"
      ]
    },
    {
      "cell_type": "markdown",
      "metadata": {
        "id": "nFqdWDC9spiH"
      },
      "source": [
        "## Избавление от дубликатов"
      ]
    },
    {
      "cell_type": "markdown",
      "metadata": {
        "id": "3yUoN4eUykf3"
      },
      "source": [
        "### Явные дубликаты"
      ]
    },
    {
      "cell_type": "markdown",
      "metadata": {
        "id": "UoNo3VRsJBH2"
      },
      "source": [
        "Проверим данные на наличие явных дубликатов\n",
        "\n"
      ]
    },
    {
      "cell_type": "code",
      "execution_count": 13,
      "metadata": {
        "colab": {
          "base_uri": "https://localhost:8080/",
          "height": 175
        },
        "id": "Xo9t0q7HMC9y",
        "outputId": "86854c43-c60a-44dc-8f74-4e2c079ed4a2"
      },
      "outputs": [
        {
          "data": {
            "text/html": [
              "<div>\n",
              "<style scoped>\n",
              "    .dataframe tbody tr th:only-of-type {\n",
              "        vertical-align: middle;\n",
              "    }\n",
              "\n",
              "    .dataframe tbody tr th {\n",
              "        vertical-align: top;\n",
              "    }\n",
              "\n",
              "    .dataframe thead th {\n",
              "        text-align: right;\n",
              "    }\n",
              "</style>\n",
              "<table border=\"1\" class=\"dataframe\">\n",
              "  <thead>\n",
              "    <tr style=\"text-align: right;\">\n",
              "      <th></th>\n",
              "      <th>id</th>\n",
              "      <th>year_birth</th>\n",
              "      <th>education</th>\n",
              "      <th>marital_status</th>\n",
              "      <th>income</th>\n",
              "      <th>kidhome</th>\n",
              "      <th>register_date</th>\n",
              "      <th>num_purchases</th>\n",
              "    </tr>\n",
              "  </thead>\n",
              "  <tbody>\n",
              "    <tr>\n",
              "      <th>792</th>\n",
              "      <td>2853</td>\n",
              "      <td>1980</td>\n",
              "      <td>Graduation</td>\n",
              "      <td>Single</td>\n",
              "      <td>51766.0</td>\n",
              "      <td>1.0</td>\n",
              "      <td>11.03.2014</td>\n",
              "      <td>2.0</td>\n",
              "    </tr>\n",
              "    <tr>\n",
              "      <th>793</th>\n",
              "      <td>2853</td>\n",
              "      <td>1980</td>\n",
              "      <td>Graduation</td>\n",
              "      <td>Single</td>\n",
              "      <td>51766.0</td>\n",
              "      <td>1.0</td>\n",
              "      <td>11.03.2014</td>\n",
              "      <td>2.0</td>\n",
              "    </tr>\n",
              "    <tr>\n",
              "      <th>794</th>\n",
              "      <td>2853</td>\n",
              "      <td>1980</td>\n",
              "      <td>Graduation</td>\n",
              "      <td>Single</td>\n",
              "      <td>51766.0</td>\n",
              "      <td>1.0</td>\n",
              "      <td>11.03.2014</td>\n",
              "      <td>2.0</td>\n",
              "    </tr>\n",
              "    <tr>\n",
              "      <th>795</th>\n",
              "      <td>2853</td>\n",
              "      <td>1980</td>\n",
              "      <td>Graduation</td>\n",
              "      <td>Single</td>\n",
              "      <td>51766.0</td>\n",
              "      <td>1.0</td>\n",
              "      <td>11.03.2014</td>\n",
              "      <td>2.0</td>\n",
              "    </tr>\n",
              "  </tbody>\n",
              "</table>\n",
              "</div>"
            ],
            "text/plain": [
              "       id  year_birth   education marital_status   income  kidhome  \\\n",
              "792  2853        1980  Graduation         Single  51766.0      1.0   \n",
              "793  2853        1980  Graduation         Single  51766.0      1.0   \n",
              "794  2853        1980  Graduation         Single  51766.0      1.0   \n",
              "795  2853        1980  Graduation         Single  51766.0      1.0   \n",
              "\n",
              "    register_date  num_purchases  \n",
              "792    11.03.2014            2.0  \n",
              "793    11.03.2014            2.0  \n",
              "794    11.03.2014            2.0  \n",
              "795    11.03.2014            2.0  "
            ]
          },
          "execution_count": 13,
          "metadata": {},
          "output_type": "execute_result"
        }
      ],
      "source": [
        "df[df.duplicated()]"
      ]
    },
    {
      "cell_type": "code",
      "execution_count": 14,
      "metadata": {
        "colab": {
          "base_uri": "https://localhost:8080/"
        },
        "id": "spr6ZQapMIVl",
        "outputId": "b7dab060-72fa-4e69-8e9f-fcb64d6fa89c"
      },
      "outputs": [
        {
          "data": {
            "text/plain": [
              "np.int64(4)"
            ]
          },
          "execution_count": 14,
          "metadata": {},
          "output_type": "execute_result"
        }
      ],
      "source": [
        "df.duplicated().sum()"
      ]
    },
    {
      "cell_type": "markdown",
      "metadata": {
        "id": "h_VLdBIUyoW5"
      },
      "source": [
        "Удалим эти дубликаты и обновим индексацию"
      ]
    },
    {
      "cell_type": "code",
      "execution_count": 15,
      "metadata": {
        "id": "boxYuwm-MNNB"
      },
      "outputs": [],
      "source": [
        "df = df.drop_duplicates().reset_index(drop=True)"
      ]
    },
    {
      "cell_type": "markdown",
      "metadata": {
        "id": "dl4Pv764ytAw"
      },
      "source": [
        "Проверим данные на наличие явных дубликатов снова"
      ]
    },
    {
      "cell_type": "code",
      "execution_count": 16,
      "metadata": {
        "colab": {
          "base_uri": "https://localhost:8080/",
          "height": 53
        },
        "id": "pak5qPn1MPsZ",
        "outputId": "ee1dcbfe-ed41-4a1c-b4bc-f27c5c017a6f"
      },
      "outputs": [
        {
          "data": {
            "text/html": [
              "<div>\n",
              "<style scoped>\n",
              "    .dataframe tbody tr th:only-of-type {\n",
              "        vertical-align: middle;\n",
              "    }\n",
              "\n",
              "    .dataframe tbody tr th {\n",
              "        vertical-align: top;\n",
              "    }\n",
              "\n",
              "    .dataframe thead th {\n",
              "        text-align: right;\n",
              "    }\n",
              "</style>\n",
              "<table border=\"1\" class=\"dataframe\">\n",
              "  <thead>\n",
              "    <tr style=\"text-align: right;\">\n",
              "      <th></th>\n",
              "      <th>id</th>\n",
              "      <th>year_birth</th>\n",
              "      <th>education</th>\n",
              "      <th>marital_status</th>\n",
              "      <th>income</th>\n",
              "      <th>kidhome</th>\n",
              "      <th>register_date</th>\n",
              "      <th>num_purchases</th>\n",
              "    </tr>\n",
              "  </thead>\n",
              "  <tbody>\n",
              "  </tbody>\n",
              "</table>\n",
              "</div>"
            ],
            "text/plain": [
              "Empty DataFrame\n",
              "Columns: [id, year_birth, education, marital_status, income, kidhome, register_date, num_purchases]\n",
              "Index: []"
            ]
          },
          "execution_count": 16,
          "metadata": {},
          "output_type": "execute_result"
        }
      ],
      "source": [
        "df[df.duplicated()]"
      ]
    },
    {
      "cell_type": "markdown",
      "metadata": {
        "id": "WFjyIH08ywEH"
      },
      "source": [
        "Таким образом явные дубликаты были удалены"
      ]
    },
    {
      "cell_type": "markdown",
      "metadata": {
        "id": "bW-tWkPzyzDn"
      },
      "source": [
        "### Неявные дубликаты"
      ]
    },
    {
      "cell_type": "markdown",
      "metadata": {
        "id": "VYWjZY4ty0-X"
      },
      "source": [
        "Пройдемся по каждой имеющейся колонке в поисках неявных дубликатов"
      ]
    },
    {
      "cell_type": "markdown",
      "metadata": {
        "id": "rrxG908Py4-n"
      },
      "source": [
        "Колонка `id` должна удовлетворять условию уникальности. Проверим это."
      ]
    },
    {
      "cell_type": "code",
      "execution_count": 17,
      "metadata": {
        "colab": {
          "base_uri": "https://localhost:8080/"
        },
        "id": "jpUSdqUKMVOE",
        "outputId": "9d944764-9e62-4ec4-ce11-bdbcfbea6739"
      },
      "outputs": [
        {
          "data": {
            "text/plain": [
              "(792, 792)"
            ]
          },
          "execution_count": 17,
          "metadata": {},
          "output_type": "execute_result"
        }
      ],
      "source": [
        "len(df[\"id\"].unique()), len(df[\"id\"])"
      ]
    },
    {
      "cell_type": "markdown",
      "metadata": {
        "id": "Dk8em_cFzAkR"
      },
      "source": [
        "В `id` содердатся только уникальные идентификаторы"
      ]
    },
    {
      "cell_type": "markdown",
      "metadata": {
        "id": "huEFdv2czQP9"
      },
      "source": [
        "В колонке `education` дубликатов не замечено"
      ]
    },
    {
      "cell_type": "code",
      "execution_count": 18,
      "metadata": {
        "colab": {
          "base_uri": "https://localhost:8080/"
        },
        "id": "b6kybLZaMgom",
        "outputId": "cb9ab100-c4a5-4d24-db08-c44da5dca4c9"
      },
      "outputs": [
        {
          "data": {
            "text/plain": [
              "array(['Graduation', 'PhD', 'Master', 'Basic'], dtype=object)"
            ]
          },
          "execution_count": 18,
          "metadata": {},
          "output_type": "execute_result"
        }
      ],
      "source": [
        "df['education'].unique()"
      ]
    },
    {
      "cell_type": "markdown",
      "metadata": {
        "id": "-UiJIBX_zUMQ"
      },
      "source": [
        "Посмотрим на уникальные значения `marital_status`."
      ]
    },
    {
      "cell_type": "code",
      "execution_count": 19,
      "metadata": {
        "colab": {
          "base_uri": "https://localhost:8080/"
        },
        "id": "KoJ5FP1iMxZ4",
        "outputId": "f9d5a136-6a65-49c7-9ed0-26bf5f53d975"
      },
      "outputs": [
        {
          "data": {
            "text/plain": [
              "array(['Single', 'Together', 'Married', 'Divorced', 'MARRIED', 'SINGL',\n",
              "       'Widow', 'Alone'], dtype=object)"
            ]
          },
          "execution_count": 19,
          "metadata": {},
          "output_type": "execute_result"
        }
      ],
      "source": [
        "df['marital_status'].unique()"
      ]
    },
    {
      "cell_type": "markdown",
      "metadata": {
        "id": "AN54O6JpM3oM"
      },
      "source": [
        "Видим неявные дубликаты:\n",
        "-  Married - MARRIED\n",
        "-  Single - SINGL\n",
        "\n",
        "Исправим это"
      ]
    },
    {
      "cell_type": "code",
      "execution_count": 20,
      "metadata": {
        "id": "6AhV6oVkNlv7"
      },
      "outputs": [],
      "source": [
        "df['marital_status'] = df['marital_status'].replace('MARRIED', 'Married')\n",
        "df['marital_status'] = df['marital_status'].replace('SINGL', 'Single')"
      ]
    },
    {
      "cell_type": "code",
      "execution_count": 21,
      "metadata": {
        "colab": {
          "base_uri": "https://localhost:8080/"
        },
        "id": "d4YL-zRWNuks",
        "outputId": "447057d7-8cc5-4ffc-ea64-a976d059df0d"
      },
      "outputs": [
        {
          "data": {
            "text/plain": [
              "array(['Single', 'Together', 'Married', 'Divorced', 'Widow', 'Alone'],\n",
              "      dtype=object)"
            ]
          },
          "execution_count": 21,
          "metadata": {},
          "output_type": "execute_result"
        }
      ],
      "source": [
        "df['marital_status'].unique()"
      ]
    },
    {
      "cell_type": "markdown",
      "metadata": {
        "id": "2Jn0Dwt_zfWr"
      },
      "source": [
        "Single, Widow, Alone - разные понятия, поэтому не будем считать их дубликатами."
      ]
    },
    {
      "cell_type": "markdown",
      "metadata": {
        "id": "vNehpegozogG"
      },
      "source": [
        "Уникальные значения колонки `kidhome` выглядят адекватно."
      ]
    },
    {
      "cell_type": "code",
      "execution_count": 22,
      "metadata": {
        "colab": {
          "base_uri": "https://localhost:8080/"
        },
        "id": "L5p3YopsNywt",
        "outputId": "163a1425-e84e-4548-bfc5-f9c3c5d2dfbc"
      },
      "outputs": [
        {
          "data": {
            "text/plain": [
              "array([0., 1., 2.])"
            ]
          },
          "execution_count": 22,
          "metadata": {},
          "output_type": "execute_result"
        }
      ],
      "source": [
        "df['kidhome'].unique()"
      ]
    },
    {
      "cell_type": "markdown",
      "metadata": {
        "id": "wYvsp0f0stj6"
      },
      "source": [
        "## Изменение типов данных"
      ]
    },
    {
      "cell_type": "markdown",
      "metadata": {
        "id": "VW7FcuptOFrX"
      },
      "source": [
        "Посмотрим на типы данных."
      ]
    },
    {
      "cell_type": "code",
      "execution_count": 23,
      "metadata": {
        "colab": {
          "base_uri": "https://localhost:8080/",
          "height": 335
        },
        "id": "aU9WBUF-RfrG",
        "outputId": "bd8f8e67-c513-4c8e-a5eb-b0eec582698d"
      },
      "outputs": [
        {
          "data": {
            "text/plain": [
              "id                  int64\n",
              "year_birth          int64\n",
              "education          object\n",
              "marital_status     object\n",
              "income            float64\n",
              "kidhome           float64\n",
              "register_date      object\n",
              "num_purchases     float64\n",
              "dtype: object"
            ]
          },
          "execution_count": 23,
          "metadata": {},
          "output_type": "execute_result"
        }
      ],
      "source": [
        "df.dtypes"
      ]
    },
    {
      "cell_type": "markdown",
      "metadata": {
        "id": "LmhB0ox40XCR"
      },
      "source": [
        "Некоторые типы данных нуждаются в изменении:\n",
        "- `year_birth`, `register_date` - даты, приведем их к datetime типу\n",
        "- `education`, `marital_status` - приведем их к категориальному типу. Это более точно и будет полезно в дальнейшем, при сортировке (благодаря `ordered=True`)\n",
        "- `kidhome` - количество детей не может быть вещественным, приведем к int типу\n",
        "- `num_purhases` - количество покупок не может быть вещественным, приведем к int типу"
      ]
    },
    {
      "cell_type": "code",
      "execution_count": 24,
      "metadata": {
        "id": "nq0ja4S4Rvvo"
      },
      "outputs": [],
      "source": [
        "df['year_birth'] = pd.to_datetime(\n",
        "    df['year_birth'],\n",
        "    format=\"%Y\"\n",
        ").dt.year\n",
        "\n",
        "df['education'] = pd.Categorical(\n",
        "    df['education'],\n",
        "    categories=[\n",
        "        'Basic',\n",
        "        'Graduation',\n",
        "        'Master',\n",
        "        'PhD'\n",
        "    ],\n",
        "    ordered=True\n",
        ")\n",
        "\n",
        "df['marital_status'] = pd.Categorical(\n",
        "    df['marital_status'],\n",
        "    categories=[\n",
        "        'Single',\n",
        "        'Together',\n",
        "        'Married',\n",
        "        'Divorced',\n",
        "        'Widow',\n",
        "        'Alone'\n",
        "    ]\n",
        ")\n",
        "\n",
        "df['kidhome'] = df['kidhome'].astype(int)\n",
        "\n",
        "df['register_date'] = pd.to_datetime(\n",
        "    df['register_date'],\n",
        "    format=\"%d.%m.%Y\"\n",
        ")\n",
        "\n",
        "df['num_purchases'] = df['num_purchases'].astype(int)"
      ]
    },
    {
      "cell_type": "markdown",
      "metadata": {
        "id": "olaKuJih1KQb"
      },
      "source": [
        "Посмотрим на результат"
      ]
    },
    {
      "cell_type": "code",
      "execution_count": 25,
      "metadata": {
        "colab": {
          "base_uri": "https://localhost:8080/",
          "height": 335
        },
        "id": "OKdQ5OxHSWUi",
        "outputId": "1360cf93-1a75-4a14-8013-9f6e17f1c65f"
      },
      "outputs": [
        {
          "data": {
            "text/plain": [
              "id                         int64\n",
              "year_birth                 int32\n",
              "education               category\n",
              "marital_status          category\n",
              "income                   float64\n",
              "kidhome                    int64\n",
              "register_date     datetime64[ns]\n",
              "num_purchases              int64\n",
              "dtype: object"
            ]
          },
          "execution_count": 25,
          "metadata": {},
          "output_type": "execute_result"
        }
      ],
      "source": [
        "df.dtypes"
      ]
    },
    {
      "cell_type": "markdown",
      "metadata": {
        "id": "pDY4lFVD1R_d"
      },
      "source": [
        "Посмотрим на датафрейм с измененными типами данных."
      ]
    },
    {
      "cell_type": "code",
      "execution_count": 26,
      "metadata": {
        "colab": {
          "base_uri": "https://localhost:8080/",
          "height": 206
        },
        "id": "XBT-nBV2SYke",
        "outputId": "fdd4961a-8bf2-4dd6-ecea-fe3fdb9fec57"
      },
      "outputs": [
        {
          "data": {
            "text/html": [
              "<div>\n",
              "<style scoped>\n",
              "    .dataframe tbody tr th:only-of-type {\n",
              "        vertical-align: middle;\n",
              "    }\n",
              "\n",
              "    .dataframe tbody tr th {\n",
              "        vertical-align: top;\n",
              "    }\n",
              "\n",
              "    .dataframe thead th {\n",
              "        text-align: right;\n",
              "    }\n",
              "</style>\n",
              "<table border=\"1\" class=\"dataframe\">\n",
              "  <thead>\n",
              "    <tr style=\"text-align: right;\">\n",
              "      <th></th>\n",
              "      <th>id</th>\n",
              "      <th>year_birth</th>\n",
              "      <th>education</th>\n",
              "      <th>marital_status</th>\n",
              "      <th>income</th>\n",
              "      <th>kidhome</th>\n",
              "      <th>register_date</th>\n",
              "      <th>num_purchases</th>\n",
              "    </tr>\n",
              "  </thead>\n",
              "  <tbody>\n",
              "    <tr>\n",
              "      <th>0</th>\n",
              "      <td>5524</td>\n",
              "      <td>1957</td>\n",
              "      <td>Graduation</td>\n",
              "      <td>Single</td>\n",
              "      <td>58138.0</td>\n",
              "      <td>0</td>\n",
              "      <td>2012-09-04</td>\n",
              "      <td>3</td>\n",
              "    </tr>\n",
              "    <tr>\n",
              "      <th>1</th>\n",
              "      <td>2174</td>\n",
              "      <td>1954</td>\n",
              "      <td>Graduation</td>\n",
              "      <td>Single</td>\n",
              "      <td>46344.0</td>\n",
              "      <td>1</td>\n",
              "      <td>2014-03-08</td>\n",
              "      <td>2</td>\n",
              "    </tr>\n",
              "    <tr>\n",
              "      <th>2</th>\n",
              "      <td>4141</td>\n",
              "      <td>1965</td>\n",
              "      <td>Graduation</td>\n",
              "      <td>Together</td>\n",
              "      <td>71613.0</td>\n",
              "      <td>0</td>\n",
              "      <td>2013-08-21</td>\n",
              "      <td>1</td>\n",
              "    </tr>\n",
              "    <tr>\n",
              "      <th>3</th>\n",
              "      <td>6182</td>\n",
              "      <td>1984</td>\n",
              "      <td>Graduation</td>\n",
              "      <td>Together</td>\n",
              "      <td>26646.0</td>\n",
              "      <td>1</td>\n",
              "      <td>2014-02-10</td>\n",
              "      <td>2</td>\n",
              "    </tr>\n",
              "    <tr>\n",
              "      <th>4</th>\n",
              "      <td>5324</td>\n",
              "      <td>1981</td>\n",
              "      <td>PhD</td>\n",
              "      <td>Married</td>\n",
              "      <td>58293.0</td>\n",
              "      <td>1</td>\n",
              "      <td>2014-01-19</td>\n",
              "      <td>5</td>\n",
              "    </tr>\n",
              "  </tbody>\n",
              "</table>\n",
              "</div>"
            ],
            "text/plain": [
              "     id  year_birth   education marital_status   income  kidhome  \\\n",
              "0  5524        1957  Graduation         Single  58138.0        0   \n",
              "1  2174        1954  Graduation         Single  46344.0        1   \n",
              "2  4141        1965  Graduation       Together  71613.0        0   \n",
              "3  6182        1984  Graduation       Together  26646.0        1   \n",
              "4  5324        1981         PhD        Married  58293.0        1   \n",
              "\n",
              "  register_date  num_purchases  \n",
              "0    2012-09-04              3  \n",
              "1    2014-03-08              2  \n",
              "2    2013-08-21              1  \n",
              "3    2014-02-10              2  \n",
              "4    2014-01-19              5  "
            ]
          },
          "execution_count": 26,
          "metadata": {},
          "output_type": "execute_result"
        }
      ],
      "source": [
        "df.head()"
      ]
    },
    {
      "cell_type": "markdown",
      "metadata": {
        "id": "yoQh0Fh8swhG"
      },
      "source": [
        "## Группировка"
      ]
    },
    {
      "cell_type": "markdown",
      "metadata": {
        "id": "Z16GlUhcOI-7"
      },
      "source": [
        "Осуществим группировки и создадим сводные таблицы в соответствии с вариантом 13.\n"
      ]
    },
    {
      "cell_type": "markdown",
      "metadata": {
        "id": "hvCmvo2kikgJ"
      },
      "source": [
        "**Задание 1**\n",
        "\n",
        "Группировка - семейный статус (marital_status) по количеству детей. Результат должен иметь  примерно следующий вид:\n",
        "\n",
        "![image.png](data:image/png;base64,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)"
      ]
    },
    {
      "cell_type": "code",
      "execution_count": 27,
      "metadata": {
        "colab": {
          "base_uri": "https://localhost:8080/",
          "height": 680
        },
        "id": "LcfH8LQmanND",
        "outputId": "8a19b0d8-239f-4aeb-9f54-5cf3cf069311"
      },
      "outputs": [
        {
          "data": {
            "text/plain": [
              "marital_status  kidhome\n",
              "Single          0           98\n",
              "                1           73\n",
              "                2            4\n",
              "Together        0          124\n",
              "                1           66\n",
              "                2            3\n",
              "Married         0          170\n",
              "                1          125\n",
              "                2           12\n",
              "Divorced        0           52\n",
              "                1           31\n",
              "                2            2\n",
              "Widow           0           24\n",
              "                1            5\n",
              "                2            0\n",
              "Alone           0            0\n",
              "                1            3\n",
              "                2            0\n",
              "dtype: int64"
            ]
          },
          "execution_count": 27,
          "metadata": {},
          "output_type": "execute_result"
        }
      ],
      "source": [
        "df.groupby(\n",
        "    ['marital_status', 'kidhome'],\n",
        "    observed=False\n",
        ").size()"
      ]
    },
    {
      "cell_type": "markdown",
      "metadata": {
        "id": "8XPccAZr5GBl"
      },
      "source": [
        "Группировка показывает количество людей по семейному положению (marital_status) и количеству детей (kidhome). Например, среди холостых (Single) 98 человек без детей, 73 с одним ребенком и 4 с двумя детьми. Аналогично для остальных категорий семейного положения."
      ]
    },
    {
      "cell_type": "markdown",
      "metadata": {
        "id": "UNEVX26dcHTZ"
      },
      "source": [
        "**Задание 2**\n",
        "\n",
        "Группировка - семейный статус (marital_status) по количеству детей.  Создать датафрейм. Переименовать столбец с количеством в “сountˮ. Отсортировать по убыванию столбца “countˮ."
      ]
    },
    {
      "cell_type": "code",
      "execution_count": 28,
      "metadata": {
        "id": "i8XZOqtY1wHD"
      },
      "outputs": [],
      "source": [
        "group_ds = df.groupby(\n",
        "    ['marital_status', 'kidhome'],\n",
        "    observed=False\n",
        ").size()"
      ]
    },
    {
      "cell_type": "markdown",
      "metadata": {
        "id": "6qks3Vtp1xGh"
      },
      "source": [
        "Преобразуем DataSeries в DataFrame"
      ]
    },
    {
      "cell_type": "code",
      "execution_count": 29,
      "metadata": {
        "id": "NFVsWHqk12Zh"
      },
      "outputs": [
        {
          "data": {
            "text/html": [
              "<div>\n",
              "<style scoped>\n",
              "    .dataframe tbody tr th:only-of-type {\n",
              "        vertical-align: middle;\n",
              "    }\n",
              "\n",
              "    .dataframe tbody tr th {\n",
              "        vertical-align: top;\n",
              "    }\n",
              "\n",
              "    .dataframe thead th {\n",
              "        text-align: right;\n",
              "    }\n",
              "</style>\n",
              "<table border=\"1\" class=\"dataframe\">\n",
              "  <thead>\n",
              "    <tr style=\"text-align: right;\">\n",
              "      <th></th>\n",
              "      <th></th>\n",
              "      <th>0</th>\n",
              "    </tr>\n",
              "    <tr>\n",
              "      <th>marital_status</th>\n",
              "      <th>kidhome</th>\n",
              "      <th></th>\n",
              "    </tr>\n",
              "  </thead>\n",
              "  <tbody>\n",
              "    <tr>\n",
              "      <th rowspan=\"3\" valign=\"top\">Single</th>\n",
              "      <th>0</th>\n",
              "      <td>98</td>\n",
              "    </tr>\n",
              "    <tr>\n",
              "      <th>1</th>\n",
              "      <td>73</td>\n",
              "    </tr>\n",
              "    <tr>\n",
              "      <th>2</th>\n",
              "      <td>4</td>\n",
              "    </tr>\n",
              "    <tr>\n",
              "      <th rowspan=\"3\" valign=\"top\">Together</th>\n",
              "      <th>0</th>\n",
              "      <td>124</td>\n",
              "    </tr>\n",
              "    <tr>\n",
              "      <th>1</th>\n",
              "      <td>66</td>\n",
              "    </tr>\n",
              "    <tr>\n",
              "      <th>2</th>\n",
              "      <td>3</td>\n",
              "    </tr>\n",
              "    <tr>\n",
              "      <th rowspan=\"3\" valign=\"top\">Married</th>\n",
              "      <th>0</th>\n",
              "      <td>170</td>\n",
              "    </tr>\n",
              "    <tr>\n",
              "      <th>1</th>\n",
              "      <td>125</td>\n",
              "    </tr>\n",
              "    <tr>\n",
              "      <th>2</th>\n",
              "      <td>12</td>\n",
              "    </tr>\n",
              "    <tr>\n",
              "      <th rowspan=\"3\" valign=\"top\">Divorced</th>\n",
              "      <th>0</th>\n",
              "      <td>52</td>\n",
              "    </tr>\n",
              "    <tr>\n",
              "      <th>1</th>\n",
              "      <td>31</td>\n",
              "    </tr>\n",
              "    <tr>\n",
              "      <th>2</th>\n",
              "      <td>2</td>\n",
              "    </tr>\n",
              "    <tr>\n",
              "      <th rowspan=\"3\" valign=\"top\">Widow</th>\n",
              "      <th>0</th>\n",
              "      <td>24</td>\n",
              "    </tr>\n",
              "    <tr>\n",
              "      <th>1</th>\n",
              "      <td>5</td>\n",
              "    </tr>\n",
              "    <tr>\n",
              "      <th>2</th>\n",
              "      <td>0</td>\n",
              "    </tr>\n",
              "    <tr>\n",
              "      <th rowspan=\"3\" valign=\"top\">Alone</th>\n",
              "      <th>0</th>\n",
              "      <td>0</td>\n",
              "    </tr>\n",
              "    <tr>\n",
              "      <th>1</th>\n",
              "      <td>3</td>\n",
              "    </tr>\n",
              "    <tr>\n",
              "      <th>2</th>\n",
              "      <td>0</td>\n",
              "    </tr>\n",
              "  </tbody>\n",
              "</table>\n",
              "</div>"
            ],
            "text/plain": [
              "                          0\n",
              "marital_status kidhome     \n",
              "Single         0         98\n",
              "               1         73\n",
              "               2          4\n",
              "Together       0        124\n",
              "               1         66\n",
              "               2          3\n",
              "Married        0        170\n",
              "               1        125\n",
              "               2         12\n",
              "Divorced       0         52\n",
              "               1         31\n",
              "               2          2\n",
              "Widow          0         24\n",
              "               1          5\n",
              "               2          0\n",
              "Alone          0          0\n",
              "               1          3\n",
              "               2          0"
            ]
          },
          "execution_count": 29,
          "metadata": {},
          "output_type": "execute_result"
        }
      ],
      "source": [
        "group_df = group_ds.to_frame()\n",
        "group_df"
      ]
    },
    {
      "cell_type": "markdown",
      "metadata": {
        "id": "OBvGcv0s13MP"
      },
      "source": [
        "Переименуем столбец с количеством в `count`"
      ]
    },
    {
      "cell_type": "code",
      "execution_count": 30,
      "metadata": {
        "id": "pA5aWkkY18R6"
      },
      "outputs": [],
      "source": [
        "group_df.rename(\n",
        "    columns={group_df.columns[-1]: \"count\"},\n",
        "    inplace=True\n",
        ")"
      ]
    },
    {
      "cell_type": "markdown",
      "metadata": {
        "id": "83JuKZ7y19Ai"
      },
      "source": [
        "Выполним сортировку по убыванию `count` и выведем сгруппированную таблицу"
      ]
    },
    {
      "cell_type": "code",
      "execution_count": 31,
      "metadata": {
        "colab": {
          "base_uri": "https://localhost:8080/",
          "height": 645
        },
        "id": "BUQ14TKCcT21",
        "outputId": "b82b1e19-befe-4717-9d6e-c0027f8dafdc"
      },
      "outputs": [
        {
          "data": {
            "text/html": [
              "<div>\n",
              "<style scoped>\n",
              "    .dataframe tbody tr th:only-of-type {\n",
              "        vertical-align: middle;\n",
              "    }\n",
              "\n",
              "    .dataframe tbody tr th {\n",
              "        vertical-align: top;\n",
              "    }\n",
              "\n",
              "    .dataframe thead th {\n",
              "        text-align: right;\n",
              "    }\n",
              "</style>\n",
              "<table border=\"1\" class=\"dataframe\">\n",
              "  <thead>\n",
              "    <tr style=\"text-align: right;\">\n",
              "      <th></th>\n",
              "      <th></th>\n",
              "      <th>count</th>\n",
              "    </tr>\n",
              "    <tr>\n",
              "      <th>marital_status</th>\n",
              "      <th>kidhome</th>\n",
              "      <th></th>\n",
              "    </tr>\n",
              "  </thead>\n",
              "  <tbody>\n",
              "    <tr>\n",
              "      <th rowspan=\"3\" valign=\"top\">Single</th>\n",
              "      <th>0</th>\n",
              "      <td>98</td>\n",
              "    </tr>\n",
              "    <tr>\n",
              "      <th>1</th>\n",
              "      <td>73</td>\n",
              "    </tr>\n",
              "    <tr>\n",
              "      <th>2</th>\n",
              "      <td>4</td>\n",
              "    </tr>\n",
              "    <tr>\n",
              "      <th rowspan=\"3\" valign=\"top\">Together</th>\n",
              "      <th>0</th>\n",
              "      <td>124</td>\n",
              "    </tr>\n",
              "    <tr>\n",
              "      <th>1</th>\n",
              "      <td>66</td>\n",
              "    </tr>\n",
              "    <tr>\n",
              "      <th>2</th>\n",
              "      <td>3</td>\n",
              "    </tr>\n",
              "    <tr>\n",
              "      <th rowspan=\"3\" valign=\"top\">Married</th>\n",
              "      <th>0</th>\n",
              "      <td>170</td>\n",
              "    </tr>\n",
              "    <tr>\n",
              "      <th>1</th>\n",
              "      <td>125</td>\n",
              "    </tr>\n",
              "    <tr>\n",
              "      <th>2</th>\n",
              "      <td>12</td>\n",
              "    </tr>\n",
              "    <tr>\n",
              "      <th rowspan=\"3\" valign=\"top\">Divorced</th>\n",
              "      <th>0</th>\n",
              "      <td>52</td>\n",
              "    </tr>\n",
              "    <tr>\n",
              "      <th>1</th>\n",
              "      <td>31</td>\n",
              "    </tr>\n",
              "    <tr>\n",
              "      <th>2</th>\n",
              "      <td>2</td>\n",
              "    </tr>\n",
              "    <tr>\n",
              "      <th rowspan=\"3\" valign=\"top\">Widow</th>\n",
              "      <th>0</th>\n",
              "      <td>24</td>\n",
              "    </tr>\n",
              "    <tr>\n",
              "      <th>1</th>\n",
              "      <td>5</td>\n",
              "    </tr>\n",
              "    <tr>\n",
              "      <th>2</th>\n",
              "      <td>0</td>\n",
              "    </tr>\n",
              "    <tr>\n",
              "      <th rowspan=\"3\" valign=\"top\">Alone</th>\n",
              "      <th>0</th>\n",
              "      <td>0</td>\n",
              "    </tr>\n",
              "    <tr>\n",
              "      <th>1</th>\n",
              "      <td>3</td>\n",
              "    </tr>\n",
              "    <tr>\n",
              "      <th>2</th>\n",
              "      <td>0</td>\n",
              "    </tr>\n",
              "  </tbody>\n",
              "</table>\n",
              "</div>"
            ],
            "text/plain": [
              "                        count\n",
              "marital_status kidhome       \n",
              "Single         0           98\n",
              "               1           73\n",
              "               2            4\n",
              "Together       0          124\n",
              "               1           66\n",
              "               2            3\n",
              "Married        0          170\n",
              "               1          125\n",
              "               2           12\n",
              "Divorced       0           52\n",
              "               1           31\n",
              "               2            2\n",
              "Widow          0           24\n",
              "               1            5\n",
              "               2            0\n",
              "Alone          0            0\n",
              "               1            3\n",
              "               2            0"
            ]
          },
          "execution_count": 31,
          "metadata": {},
          "output_type": "execute_result"
        }
      ],
      "source": [
        "group_df.sort_values(\n",
        "    by=\"count\",\n",
        "    ascending=False\n",
        ")\n",
        "\n",
        "group_df"
      ]
    },
    {
      "cell_type": "markdown",
      "metadata": {
        "id": "zzfxzBKjsyxm"
      },
      "source": [
        "## Сводные таблицы"
      ]
    },
    {
      "cell_type": "markdown",
      "metadata": {
        "id": "d0YFCiacgH9l"
      },
      "source": [
        "**Задание 3**\n",
        "\n",
        "Сводная таблица (pivot_table) - среднее количество покупок для каждого уровня\n",
        "образования. Отсортировать по убыванию. Округлить до двух знаков."
      ]
    },
    {
      "cell_type": "code",
      "execution_count": 32,
      "metadata": {
        "id": "s4DJGc842I8w"
      },
      "outputs": [],
      "source": [
        "pivot_table1 = df.pivot_table(\n",
        "    values='num_purchases',\n",
        "    index='education',\n",
        "    aggfunc='mean',\n",
        "    observed=False\n",
        ").round(2)"
      ]
    },
    {
      "cell_type": "markdown",
      "metadata": {
        "id": "ghxwGWjp2Jhg"
      },
      "source": [
        "Отсортируем полученную таблицу по убыванию"
      ]
    },
    {
      "cell_type": "code",
      "execution_count": 33,
      "metadata": {
        "colab": {
          "base_uri": "https://localhost:8080/",
          "height": 206
        },
        "id": "YTo1YBdXgYTn",
        "outputId": "16e76964-40bf-4425-dbe7-c090a781bd84"
      },
      "outputs": [
        {
          "data": {
            "text/html": [
              "<div>\n",
              "<style scoped>\n",
              "    .dataframe tbody tr th:only-of-type {\n",
              "        vertical-align: middle;\n",
              "    }\n",
              "\n",
              "    .dataframe tbody tr th {\n",
              "        vertical-align: top;\n",
              "    }\n",
              "\n",
              "    .dataframe thead th {\n",
              "        text-align: right;\n",
              "    }\n",
              "</style>\n",
              "<table border=\"1\" class=\"dataframe\">\n",
              "  <thead>\n",
              "    <tr style=\"text-align: right;\">\n",
              "      <th></th>\n",
              "      <th>num_purchases</th>\n",
              "    </tr>\n",
              "    <tr>\n",
              "      <th>education</th>\n",
              "      <th></th>\n",
              "    </tr>\n",
              "  </thead>\n",
              "  <tbody>\n",
              "    <tr>\n",
              "      <th>PhD</th>\n",
              "      <td>2.55</td>\n",
              "    </tr>\n",
              "    <tr>\n",
              "      <th>Master</th>\n",
              "      <td>2.52</td>\n",
              "    </tr>\n",
              "    <tr>\n",
              "      <th>Graduation</th>\n",
              "      <td>2.17</td>\n",
              "    </tr>\n",
              "    <tr>\n",
              "      <th>Basic</th>\n",
              "      <td>1.40</td>\n",
              "    </tr>\n",
              "  </tbody>\n",
              "</table>\n",
              "</div>"
            ],
            "text/plain": [
              "            num_purchases\n",
              "education                \n",
              "PhD                  2.55\n",
              "Master               2.52\n",
              "Graduation           2.17\n",
              "Basic                1.40"
            ]
          },
          "execution_count": 33,
          "metadata": {},
          "output_type": "execute_result"
        }
      ],
      "source": [
        "pivot_table1 = pivot_table1.sort_values(\n",
        "    by='num_purchases',\n",
        "    ascending=False\n",
        ")\n",
        "\n",
        "pivot_table1"
      ]
    },
    {
      "cell_type": "markdown",
      "metadata": {
        "id": "RuocNXjV6Rlb"
      },
      "source": [
        "\n",
        "Сводная таблица показывает среднее количество покупок (num_purchases) в зависимости от уровня образования. Люди с PhD в среднем совершают 2.55 покупки, с Master — 2.52, с Graduation — 2.17, а с Basic — 1.40."
      ]
    },
    {
      "cell_type": "markdown",
      "metadata": {
        "id": "OyOaN6fJlLhB"
      },
      "source": [
        "**Задание 4**\n",
        "Сводная таблица (pivot_table) - среднее количество покупок по уровню образованию - строки и году рождения - столбцы. Отсортировать по возрастанию education.  Округлить до двух знаков."
      ]
    },
    {
      "cell_type": "markdown",
      "metadata": {
        "id": "RruUaxy72aXw"
      },
      "source": [
        "Изменим сводную таблицу из прошлого задания, добавив столбцы - год рождения"
      ]
    },
    {
      "cell_type": "code",
      "execution_count": 34,
      "metadata": {
        "id": "jIyM5odl2eyK"
      },
      "outputs": [],
      "source": [
        "pivot_table2 = df.pivot_table(\n",
        "    values=\"num_purchases\",\n",
        "    index=\"education\",\n",
        "    columns=\"year_birth\",\n",
        "    aggfunc=\"mean\",\n",
        "    observed=False\n",
        ").round(2)"
      ]
    },
    {
      "cell_type": "markdown",
      "metadata": {
        "id": "L_f6fCWA2mYN"
      },
      "source": [
        "Отсортируем по возрастанию степени образования и выведем полученную сводную таблицу"
      ]
    },
    {
      "cell_type": "code",
      "execution_count": 35,
      "metadata": {
        "colab": {
          "base_uri": "https://localhost:8080/",
          "height": 236
        },
        "id": "40bEuoPugaJR",
        "outputId": "3eb752fc-c6ae-4aa7-c583-74c0fc4fb41a"
      },
      "outputs": [
        {
          "data": {
            "text/html": [
              "<div>\n",
              "<style scoped>\n",
              "    .dataframe tbody tr th:only-of-type {\n",
              "        vertical-align: middle;\n",
              "    }\n",
              "\n",
              "    .dataframe tbody tr th {\n",
              "        vertical-align: top;\n",
              "    }\n",
              "\n",
              "    .dataframe thead th {\n",
              "        text-align: right;\n",
              "    }\n",
              "</style>\n",
              "<table border=\"1\" class=\"dataframe\">\n",
              "  <thead>\n",
              "    <tr style=\"text-align: right;\">\n",
              "      <th>year_birth</th>\n",
              "      <th>1899</th>\n",
              "      <th>1941</th>\n",
              "      <th>1943</th>\n",
              "      <th>1944</th>\n",
              "      <th>1945</th>\n",
              "      <th>1946</th>\n",
              "      <th>1947</th>\n",
              "      <th>1948</th>\n",
              "      <th>1949</th>\n",
              "      <th>1950</th>\n",
              "      <th>...</th>\n",
              "      <th>1986</th>\n",
              "      <th>1987</th>\n",
              "      <th>1988</th>\n",
              "      <th>1989</th>\n",
              "      <th>1990</th>\n",
              "      <th>1991</th>\n",
              "      <th>1992</th>\n",
              "      <th>1993</th>\n",
              "      <th>1994</th>\n",
              "      <th>1995</th>\n",
              "    </tr>\n",
              "    <tr>\n",
              "      <th>education</th>\n",
              "      <th></th>\n",
              "      <th></th>\n",
              "      <th></th>\n",
              "      <th></th>\n",
              "      <th></th>\n",
              "      <th></th>\n",
              "      <th></th>\n",
              "      <th></th>\n",
              "      <th></th>\n",
              "      <th></th>\n",
              "      <th></th>\n",
              "      <th></th>\n",
              "      <th></th>\n",
              "      <th></th>\n",
              "      <th></th>\n",
              "      <th></th>\n",
              "      <th></th>\n",
              "      <th></th>\n",
              "      <th></th>\n",
              "      <th></th>\n",
              "      <th></th>\n",
              "    </tr>\n",
              "  </thead>\n",
              "  <tbody>\n",
              "    <tr>\n",
              "      <th>Basic</th>\n",
              "      <td>NaN</td>\n",
              "      <td>NaN</td>\n",
              "      <td>NaN</td>\n",
              "      <td>NaN</td>\n",
              "      <td>NaN</td>\n",
              "      <td>NaN</td>\n",
              "      <td>NaN</td>\n",
              "      <td>NaN</td>\n",
              "      <td>NaN</td>\n",
              "      <td>NaN</td>\n",
              "      <td>...</td>\n",
              "      <td>2.00</td>\n",
              "      <td>2.00</td>\n",
              "      <td>NaN</td>\n",
              "      <td>1.00</td>\n",
              "      <td>1.0</td>\n",
              "      <td>NaN</td>\n",
              "      <td>NaN</td>\n",
              "      <td>NaN</td>\n",
              "      <td>NaN</td>\n",
              "      <td>NaN</td>\n",
              "    </tr>\n",
              "    <tr>\n",
              "      <th>Graduation</th>\n",
              "      <td>NaN</td>\n",
              "      <td>NaN</td>\n",
              "      <td>NaN</td>\n",
              "      <td>1.0</td>\n",
              "      <td>NaN</td>\n",
              "      <td>1.67</td>\n",
              "      <td>1.0</td>\n",
              "      <td>1.00</td>\n",
              "      <td>1.0</td>\n",
              "      <td>2.00</td>\n",
              "      <td>...</td>\n",
              "      <td>1.12</td>\n",
              "      <td>1.67</td>\n",
              "      <td>1.92</td>\n",
              "      <td>1.78</td>\n",
              "      <td>1.0</td>\n",
              "      <td>1.0</td>\n",
              "      <td>1.0</td>\n",
              "      <td>1.0</td>\n",
              "      <td>1.0</td>\n",
              "      <td>1.0</td>\n",
              "    </tr>\n",
              "    <tr>\n",
              "      <th>Master</th>\n",
              "      <td>NaN</td>\n",
              "      <td>NaN</td>\n",
              "      <td>1.0</td>\n",
              "      <td>1.0</td>\n",
              "      <td>1.0</td>\n",
              "      <td>1.00</td>\n",
              "      <td>1.0</td>\n",
              "      <td>1.00</td>\n",
              "      <td>2.2</td>\n",
              "      <td>5.00</td>\n",
              "      <td>...</td>\n",
              "      <td>2.50</td>\n",
              "      <td>1.00</td>\n",
              "      <td>1.00</td>\n",
              "      <td>2.00</td>\n",
              "      <td>NaN</td>\n",
              "      <td>NaN</td>\n",
              "      <td>1.0</td>\n",
              "      <td>NaN</td>\n",
              "      <td>NaN</td>\n",
              "      <td>NaN</td>\n",
              "    </tr>\n",
              "    <tr>\n",
              "      <th>PhD</th>\n",
              "      <td>1.0</td>\n",
              "      <td>0.0</td>\n",
              "      <td>1.5</td>\n",
              "      <td>1.0</td>\n",
              "      <td>1.5</td>\n",
              "      <td>2.00</td>\n",
              "      <td>1.0</td>\n",
              "      <td>2.43</td>\n",
              "      <td>2.5</td>\n",
              "      <td>1.67</td>\n",
              "      <td>...</td>\n",
              "      <td>1.50</td>\n",
              "      <td>NaN</td>\n",
              "      <td>1.00</td>\n",
              "      <td>1.00</td>\n",
              "      <td>NaN</td>\n",
              "      <td>1.0</td>\n",
              "      <td>NaN</td>\n",
              "      <td>NaN</td>\n",
              "      <td>NaN</td>\n",
              "      <td>NaN</td>\n",
              "    </tr>\n",
              "  </tbody>\n",
              "</table>\n",
              "<p>4 rows × 55 columns</p>\n",
              "</div>"
            ],
            "text/plain": [
              "year_birth  1899  1941  1943  1944  1945  1946  1947  1948  1949  1950  ...  \\\n",
              "education                                                               ...   \n",
              "Basic        NaN   NaN   NaN   NaN   NaN   NaN   NaN   NaN   NaN   NaN  ...   \n",
              "Graduation   NaN   NaN   NaN   1.0   NaN  1.67   1.0  1.00   1.0  2.00  ...   \n",
              "Master       NaN   NaN   1.0   1.0   1.0  1.00   1.0  1.00   2.2  5.00  ...   \n",
              "PhD          1.0   0.0   1.5   1.0   1.5  2.00   1.0  2.43   2.5  1.67  ...   \n",
              "\n",
              "year_birth  1986  1987  1988  1989  1990  1991  1992  1993  1994  1995  \n",
              "education                                                               \n",
              "Basic       2.00  2.00   NaN  1.00   1.0   NaN   NaN   NaN   NaN   NaN  \n",
              "Graduation  1.12  1.67  1.92  1.78   1.0   1.0   1.0   1.0   1.0   1.0  \n",
              "Master      2.50  1.00  1.00  2.00   NaN   NaN   1.0   NaN   NaN   NaN  \n",
              "PhD         1.50   NaN  1.00  1.00   NaN   1.0   NaN   NaN   NaN   NaN  \n",
              "\n",
              "[4 rows x 55 columns]"
            ]
          },
          "execution_count": 35,
          "metadata": {},
          "output_type": "execute_result"
        }
      ],
      "source": [
        "pivot_table2.sort_values(\n",
        "    by=\"education\",\n",
        "    ascending=True\n",
        ")\n",
        "\n",
        "pivot_table2"
      ]
    },
    {
      "cell_type": "markdown",
      "metadata": {
        "id": "Z_WFNx1l6kms"
      },
      "source": [
        "Сводная таблица показывает среднее количество покупок в зависимости от года рождения (year_birth) и уровня образования. Видно, что значения варьируются по годам, где, например, люди с PhD, рожденные в 1989 году, совершают в среднем 1 покупку, а те, кто родился в 1949 году — 2.43 покупки. Пустые значения (NaN) означают отсутствие данных для соответствующего сочетания года и уровня образования."
      ]
    },
    {
      "cell_type": "markdown",
      "metadata": {
        "id": "CDTPo1XMs15C"
      },
      "source": [
        "## Вывод"
      ]
    },
    {
      "cell_type": "markdown",
      "metadata": {
        "id": "Zllnh3ilOKmG"
      },
      "source": [
        "В ходе лабораторной работы была проведена предварительная обработка данных о клиентах магазина из CSV-файла. Предобработка проводилась с использованием библиотеки Pandas.\n",
        "\n",
        "В процессе работы данные были загружены, был проведен их обзор и оценка. Был определен общий объем данных, количество пропусков в них и типы столбцов. Отдельное были рассмотрены числовые столбцы.\n",
        "\n",
        "Также были выявлены и исправлены проблемы в данных. Были исправлены проблемы с названиями столбцов. Данные были проверены на наличие пропусков, которые были устранены путем их заполнения. Также была произведена корректировка типов данных для соответствия действительности.\n",
        "\n",
        "Кроме того, были выполнены две группировки данных и созданы две сводные таблицы в соответствии с индивидуальным вариантом.\n",
        "\n",
        "Из группировок и сводных таблиц была получена полезная информация.\n",
        "\n",
        "Люди с PhD и Master совершают больше покупок в среднем по сравнению с теми, кто имеет образование уровня Graduation или Basic. Семейное положение также влияет: например, среди холостых больше людей без детей, а в семьях с детьми чаще встречаются пары, состоящие в браке или отношениях. По годам рождения видно, что старшие поколения (например, 1940-е годы) совершают больше покупок, но данные неполные для всех категорий."
      ]
    }
  ],
  "metadata": {
    "colab": {
      "provenance": [],
      "toc_visible": true
    },
    "kernelspec": {
      "display_name": "Python 3",
      "name": "python3"
    },
    "language_info": {
      "codemirror_mode": {
        "name": "ipython",
        "version": 3
      },
      "file_extension": ".py",
      "mimetype": "text/x-python",
      "name": "python",
      "nbconvert_exporter": "python",
      "pygments_lexer": "ipython3",
      "version": "3.12.2"
    }
  },
  "nbformat": 4,
  "nbformat_minor": 0
}
